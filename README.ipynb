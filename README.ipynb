{
 "cells": [
  {
   "cell_type": "markdown",
   "id": "aaa2b171",
   "metadata": {},
   "source": [
    "# README\n",
    "\n",
    "This alerts system gathers weekly SUPReMM quality data and sends visual reports via Slack."
   ]
  },
  {
   "cell_type": "markdown",
   "id": "cbe0d926",
   "metadata": {},
   "source": [
    "## Dependencies\n",
    "### Anaconda\n",
    "Requires [**Anaconda**](https://www.anaconda.com/products/distribution) for the latest version of Python and various modules.\n",
    "\n",
    "`wget https://repo.anaconda.com/archive/Anaconda3-2022.05-Linux-x86_64.sh\n",
    "chmod +x Anaconda3-2022.05-Linux-x86_64.sh\n",
    "./Anaconda3-2022.05-Linux-x86_64.sh`\n",
    "### xdmod-python\n",
    "Requires the [Python module for xdmod](https://github.com/jpwhite4/xdmod-python) for `datawarehouse` objects and visualizers."
   ]
  },
  {
   "cell_type": "markdown",
   "id": "008db0d9",
   "metadata": {},
   "source": [
    "# SETUP"
   ]
  },
  {
   "cell_type": "markdown",
   "id": "3e1f1c2f",
   "metadata": {},
   "source": [
    "## [Slack API](https://api.slack.com/#read_the_docs)\n",
    "A Slack app with a webhook must first be generated to facilitate requests to the Slack API.\n",
    "### Create app\n",
    "\"Create an app\" $\\rightarrow$ \"Create new app\" $\\rightarrow$ \"From scratch\" $\\rightarrow$ _Make name and select Slack workspace_ $\\rightarrow$ \"Create app\"\n",
    "\n",
    "### Add webhook to app\n",
    "\"Incoming Webhooks\" $\\rightarrow$ _Activate incoming webhooks_ $\\rightarrow$ \"Add new webhook to workspace\" $\\rightarrow$ _Select channel_ $\\rightarrow$ \"Allow\"\n",
    "\n",
    "**The url provided contains a secret. Do not expose this to git, or its functionality will automatically deactivate.**"
   ]
  },
  {
   "cell_type": "markdown",
   "id": "bcc8d12c",
   "metadata": {},
   "source": [
    "## Git Clone SUPReMM Alerts Repo\n",
    "\n",
    "- On the the desired system, cd into `usr/share/xdmod/html/`\n",
    "- `mkdir reports`\n",
    "- `cd reports`\n",
    "- `git clone ___ `"
   ]
  },
  {
   "cell_type": "markdown",
   "id": "9ba8c21b",
   "metadata": {},
   "source": [
    "## Configuration\n",
    "\n",
    "### Hosts\n",
    "The `supremm-alert.ipynb` notebook must be configured to access the desired servers/hosts. The variable `hosts` should map **host name to its url**. For instance, \n",
    "\n",
    "`'metrics-dev': 'https://metrics-dev.ccr.buffalo.edu:9004', 'ookami': 'https://ookami.ccr.xdmod.org', 'xdmod-dev': 'https://xdmod-dev.ccr.xdmod.org:9002'`\n",
    "\n",
    "### Outlier Detection Setup\n",
    "The outlier detection functionality must be configured to a desired date range. The `outlier_detection.py` file contains the function `config_json` which takes the `hosts` dictionary, `start_date`, and optional `end_date` (defaults to today). Function creates a directory from where it was run called `outlier_config` containing all reference json files for `hosts`. For instance,\n",
    "\n",
    "`config_json(hosts, '2022-05-01', end_date = '2022-07-01', config_all = True)`\n",
    "\n",
    "### Webhook Variable \n",
    "In the `supremm-alert.ipynb` notebook, paste the Slack webhook url into the `webhook` variable.\n",
    "\n",
    "### Environment Variables\n",
    "Additionally, proper environment variables must be assigned for logging in. On the command line, export the following variables:\n",
    "1. `XDMOD_USER=[your_username]`\n",
    "2. `XDMOD_PASS=[your_password]`"
   ]
  },
  {
   "cell_type": "markdown",
   "id": "301139b1",
   "metadata": {},
   "source": [
    "## Automate using `nbconvert` and `crontab`\n",
    "Schedule the following command to run from `usr/share/xdmod/html/reports/xdmod-alerts` every Monday at 6:00am.\n",
    "\n",
    "```jupyter nbconvert --execute  --to html --output \"`date +\"%Y-%m-%d\"`_report.html\" \"supremm-alert.ipynb\" --no-input```\n",
    "\n",
    "Expect a Slack message with alerts and a working link to the full report."
   ]
  },
  {
   "cell_type": "markdown",
   "id": "cb6b4089",
   "metadata": {},
   "source": []
  }
 ],
 "metadata": {
  "kernelspec": {
   "display_name": "Python 3 (ipykernel)",
   "language": "python",
   "name": "python3"
  },
  "language_info": {
   "codemirror_mode": {
    "name": "ipython",
    "version": 3
   },
   "file_extension": ".py",
   "mimetype": "text/x-python",
   "name": "python",
   "nbconvert_exporter": "python",
   "pygments_lexer": "ipython3",
   "version": "3.9.7"
  }
 },
 "nbformat": 4,
 "nbformat_minor": 5
}
