{
 "cells": [
  {
   "cell_type": "markdown",
   "id": "aaa2b171",
   "metadata": {},
   "source": [
    "# README\n",
    "\n",
    "This alerts system gathers weekly SUPReMM quality data and sends visual reports via Slack."
   ]
  },
  {
   "cell_type": "markdown",
   "id": "cbe0d926",
   "metadata": {},
   "source": [
    "## Dependencies\n",
    "### Anaconda\n",
    "Requires [**Anaconda**](https://www.anaconda.com/products/distribution) for the latest version of Python and various modules.\n",
    "\n",
    "### xdmod-python\n",
    "Requires the [Python module for xdmod](https://github.com/jpwhite4/xdmod-python) for `datawarehouse` objects and visualizers."
   ]
  },
  {
   "cell_type": "markdown",
   "id": "008db0d9",
   "metadata": {},
   "source": [
    "# SETUP"
   ]
  },
  {
   "cell_type": "markdown",
   "id": "3e1f1c2f",
   "metadata": {},
   "source": [
    "## [Slack API](https://api.slack.com/#read_the_docs)\n",
    "A Slack app with a webhook must first be generated to facilitate requests to the Slack API.\n",
    "### Create app\n",
    "\"Create an app\" $\\rightarrow$ \"Create new app\" $\\rightarrow$ \"From scratch\" $\\rightarrow$ Make name and select Slack workspace $\\rightarrow$ \"Create app\"\n",
    "\n",
    "### Add webhook to app\n",
    "\"Incoming Webhooks\" $\\rightarrow$ Activate incoming webhooks $\\rightarrow$ \"Add new webhook to workspace\" $\\rightarrow$ Select channel $\\rightarrow$ \"Allow\"\n",
    "\n",
    "**The url provided contains a secret. Do not expose this to git, or its functionality will automatically deactivate.**"
   ]
  },
  {
   "cell_type": "markdown",
   "id": "9ba8c21b",
   "metadata": {},
   "source": [
    "## Configuration\n",
    "\n",
    "### Hosts\n",
    "The `supremm-alert.ipynb` notebook must be configured to access the desired servers/hosts. The variable `hosts` should map **host name to its url**. For instance, \n",
    "\n",
    "`'metrics-dev': 'https://metrics-dev.ccr.buffalo.edu:9004', 'ookami': 'https://ookami.ccr.xdmod.org', 'xdmod-dev': 'https://xdmod-dev.ccr.xdmod.org:9002'`\n",
    "\n",
    "### Environment Variables\n",
    "Additionally, proper environment variables must be assigned for logging in and accessing today's date. On the command line, export the following variables:\n",
    "1. `XDMOD_USER=[your_username]`\n",
    "2. `XDMOD_PASS=[your_password]`\n",
    "3. ```today=`date +\"%Y-%m-%d\"` ```"
   ]
  },
  {
   "cell_type": "markdown",
   "id": "301139b1",
   "metadata": {},
   "source": [
    "## Automation "
   ]
  },
  {
   "cell_type": "code",
   "execution_count": null,
   "id": "5fb29d60",
   "metadata": {},
   "outputs": [],
   "source": []
  }
 ],
 "metadata": {
  "kernelspec": {
   "display_name": "Python 3 (ipykernel)",
   "language": "python",
   "name": "python3"
  },
  "language_info": {
   "codemirror_mode": {
    "name": "ipython",
    "version": 3
   },
   "file_extension": ".py",
   "mimetype": "text/x-python",
   "name": "python",
   "nbconvert_exporter": "python",
   "pygments_lexer": "ipython3",
   "version": "3.9.7"
  }
 },
 "nbformat": 4,
 "nbformat_minor": 5
}
